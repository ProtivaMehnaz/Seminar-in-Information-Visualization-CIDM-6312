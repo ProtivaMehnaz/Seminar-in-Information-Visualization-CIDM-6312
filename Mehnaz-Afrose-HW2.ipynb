{
 "cells": [
  {
   "cell_type": "markdown",
   "metadata": {},
   "source": [
    "# <font color=red>  Assignment #2: Querying and plotting datasets </font>\n",
    "\n",
    "# Total Points  : 80 + 7 extra credit points \n",
    "## <font color=Blue> Due: Tuesday 03/21/2023 11:59 PM </font>\n",
    "### Objective : Assess your ability to use  python and Pandas package to read and pre-process datasets \n",
    "\n",
    "#### Skills needed:  In this homework assignment, you'll be using the concepts you've learned to\n",
    "1. Edit and run  Jupyter notebooks\n",
    "2. Use Pandas and MatPlotLib  to :\n",
    "    * Read dataset into pandas dataframe\n",
    "    * Select columns and rows from the Pandas dataframe based on some crieteria\n",
    "    * Statisticaly descripe the dataset\n",
    "    * Update pandas dataframe by adding/removing columns \n",
    "    * make bar plot from SELECTED rows/columns of dataset\n",
    "    * Set a color theme for your plots using color maps\n",
    "    * set the attributes of the bar plot, including\n",
    "        * axis labels\n",
    "        * axis xticks\n",
    "        * plot title\n",
    "        * bar colors and sizes\n",
    "        \n",
    "    * Save the plots in png file"
   ]
  },
  {
   "cell_type": "markdown",
   "metadata": {},
   "source": [
    "***\n",
    "Please type your name below"
   ]
  },
  {
   "cell_type": "markdown",
   "metadata": {
    "collapsed": true
   },
   "source": [
    "## <font color=Blue> Mehnaz Afrose </font>\n",
    "\n",
    "***\n",
    "\n",
    "## Requirements & Submission:\n",
    "1. Use this notebook as a template for your answers. Then rename it and submitted as ipynb (jupyter notebook) \n",
    "2. Submit on WTClass (“Resources >> Assignments >> Assignment#2 \n",
    "3. The file name must be your ``first name``+ \"-\"+ ``Last name`` followed by \"-HW2.ipynb\".\n",
    "4. Each task's answer must be after the task description\n",
    "5. Answers and explainations must be properly formatted in the properiate Cell type\n",
    "8. You can add as many cells as you needed\n",
    "9. You should submit final ***clean version*** of your notebook, i.e. remove any experimenting cells\n"
   ]
  },
  {
   "cell_type": "markdown",
   "metadata": {},
   "source": [
    "### Grading\n",
    "1. This assignment contains 3 required tasks (80 points) and 7 extra credit points (total 87 points)\n",
    "    * Task 1 has 26 points + 2 Extra points\n",
    "    * Task 2 has 16 points\n",
    "    * Task 3 has 38 points\n",
    "    * Extra credit task +5 points\n",
    "    \n",
    "1. You'll earn full points for each command that gives the desired output if it follows the rules\n",
    "2. Wrong answers and Non-executable commands will get 0 points\n",
    "3. Partial credit will be given for executable non-complete tasks"
   ]
  },
  {
   "cell_type": "markdown",
   "metadata": {},
   "source": [
    "## <font color=blue> Reading the dataset into Pandas dataframe:</font>  (already done for you)"
   ]
  },
  {
   "cell_type": "code",
   "execution_count": 1,
   "metadata": {},
   "outputs": [],
   "source": [
    "import pandas as pd\n",
    "import numpy as np"
   ]
  },
  {
   "cell_type": "markdown",
   "metadata": {},
   "source": [
    "This dataset is stored as __fixed-column format__ file with no header(You need to check the ``DataDescription.txt`` file to learn about how the columns are formatted)"
   ]
  },
  {
   "cell_type": "code",
   "execution_count": 2,
   "metadata": {},
   "outputs": [],
   "source": [
    "#begining of each column\n",
    "colPositions=[0,46,48,50,52,54,56,58,60,66,74,78,80,84,87,90,95,99,103,106]\n",
    "#calculating column widths\n",
    "ColWidths=[colPositions[i+1]-colPositions[i] for i in range(0,len(colPositions)-1)]\n",
    "#using read_fwf function to read fixed width format file, use header=None to avoid missing the 1st row\n",
    "CarData= pd.read_fwf('carsData.dat',na_values = '*', header=None,widths=ColWidths, sep=\"\\s+\")"
   ]
  },
  {
   "cell_type": "code",
   "execution_count": 3,
   "metadata": {},
   "outputs": [
    {
     "data": {
      "text/plain": [
       "(428, 19)"
      ]
     },
     "execution_count": 3,
     "metadata": {},
     "output_type": "execute_result"
    }
   ],
   "source": [
    "# verifying correctness of data read\n",
    "CarData.shape"
   ]
  },
  {
   "cell_type": "code",
   "execution_count": 4,
   "metadata": {},
   "outputs": [
    {
     "data": {
      "text/html": [
       "<div>\n",
       "<style scoped>\n",
       "    .dataframe tbody tr th:only-of-type {\n",
       "        vertical-align: middle;\n",
       "    }\n",
       "\n",
       "    .dataframe tbody tr th {\n",
       "        vertical-align: top;\n",
       "    }\n",
       "\n",
       "    .dataframe thead th {\n",
       "        text-align: right;\n",
       "    }\n",
       "</style>\n",
       "<table border=\"1\" class=\"dataframe\">\n",
       "  <thead>\n",
       "    <tr style=\"text-align: right;\">\n",
       "      <th></th>\n",
       "      <th>0</th>\n",
       "      <th>1</th>\n",
       "      <th>2</th>\n",
       "      <th>3</th>\n",
       "      <th>4</th>\n",
       "      <th>5</th>\n",
       "      <th>6</th>\n",
       "      <th>7</th>\n",
       "      <th>8</th>\n",
       "      <th>9</th>\n",
       "      <th>10</th>\n",
       "      <th>11</th>\n",
       "      <th>12</th>\n",
       "      <th>13</th>\n",
       "      <th>14</th>\n",
       "      <th>15</th>\n",
       "      <th>16</th>\n",
       "      <th>17</th>\n",
       "      <th>18</th>\n",
       "    </tr>\n",
       "  </thead>\n",
       "  <tbody>\n",
       "    <tr>\n",
       "      <th>0</th>\n",
       "      <td>Chevrolet Aveo 4dr</td>\n",
       "      <td>0</td>\n",
       "      <td>0</td>\n",
       "      <td>0</td>\n",
       "      <td>0</td>\n",
       "      <td>0</td>\n",
       "      <td>0</td>\n",
       "      <td>0</td>\n",
       "      <td>11690</td>\n",
       "      <td>10965</td>\n",
       "      <td>1.6</td>\n",
       "      <td>4</td>\n",
       "      <td>103</td>\n",
       "      <td>28.0</td>\n",
       "      <td>34.0</td>\n",
       "      <td>2370.0</td>\n",
       "      <td>98.0</td>\n",
       "      <td>167.0</td>\n",
       "      <td>66.0</td>\n",
       "    </tr>\n",
       "    <tr>\n",
       "      <th>1</th>\n",
       "      <td>Chevrolet Aveo LS 4dr hatch</td>\n",
       "      <td>0</td>\n",
       "      <td>0</td>\n",
       "      <td>0</td>\n",
       "      <td>0</td>\n",
       "      <td>0</td>\n",
       "      <td>0</td>\n",
       "      <td>0</td>\n",
       "      <td>12585</td>\n",
       "      <td>11802</td>\n",
       "      <td>1.6</td>\n",
       "      <td>4</td>\n",
       "      <td>103</td>\n",
       "      <td>28.0</td>\n",
       "      <td>34.0</td>\n",
       "      <td>2348.0</td>\n",
       "      <td>98.0</td>\n",
       "      <td>153.0</td>\n",
       "      <td>66.0</td>\n",
       "    </tr>\n",
       "    <tr>\n",
       "      <th>2</th>\n",
       "      <td>Chevrolet Cavalier 2dr</td>\n",
       "      <td>0</td>\n",
       "      <td>0</td>\n",
       "      <td>0</td>\n",
       "      <td>0</td>\n",
       "      <td>0</td>\n",
       "      <td>0</td>\n",
       "      <td>0</td>\n",
       "      <td>14610</td>\n",
       "      <td>13697</td>\n",
       "      <td>2.2</td>\n",
       "      <td>4</td>\n",
       "      <td>140</td>\n",
       "      <td>26.0</td>\n",
       "      <td>37.0</td>\n",
       "      <td>2617.0</td>\n",
       "      <td>104.0</td>\n",
       "      <td>183.0</td>\n",
       "      <td>69.0</td>\n",
       "    </tr>\n",
       "    <tr>\n",
       "      <th>3</th>\n",
       "      <td>Chevrolet Cavalier 4dr</td>\n",
       "      <td>0</td>\n",
       "      <td>0</td>\n",
       "      <td>0</td>\n",
       "      <td>0</td>\n",
       "      <td>0</td>\n",
       "      <td>0</td>\n",
       "      <td>0</td>\n",
       "      <td>14810</td>\n",
       "      <td>13884</td>\n",
       "      <td>2.2</td>\n",
       "      <td>4</td>\n",
       "      <td>140</td>\n",
       "      <td>26.0</td>\n",
       "      <td>37.0</td>\n",
       "      <td>2676.0</td>\n",
       "      <td>104.0</td>\n",
       "      <td>183.0</td>\n",
       "      <td>68.0</td>\n",
       "    </tr>\n",
       "    <tr>\n",
       "      <th>4</th>\n",
       "      <td>Chevrolet Cavalier LS 2dr</td>\n",
       "      <td>0</td>\n",
       "      <td>0</td>\n",
       "      <td>0</td>\n",
       "      <td>0</td>\n",
       "      <td>0</td>\n",
       "      <td>0</td>\n",
       "      <td>0</td>\n",
       "      <td>16385</td>\n",
       "      <td>15357</td>\n",
       "      <td>2.2</td>\n",
       "      <td>4</td>\n",
       "      <td>140</td>\n",
       "      <td>26.0</td>\n",
       "      <td>37.0</td>\n",
       "      <td>2617.0</td>\n",
       "      <td>104.0</td>\n",
       "      <td>183.0</td>\n",
       "      <td>69.0</td>\n",
       "    </tr>\n",
       "  </tbody>\n",
       "</table>\n",
       "</div>"
      ],
      "text/plain": [
       "                            0   1   2   3   4   5   6   7      8      9    10  \\\n",
       "0           Chevrolet Aveo 4dr   0   0   0   0   0   0   0  11690  10965  1.6   \n",
       "1  Chevrolet Aveo LS 4dr hatch   0   0   0   0   0   0   0  12585  11802  1.6   \n",
       "2       Chevrolet Cavalier 2dr   0   0   0   0   0   0   0  14610  13697  2.2   \n",
       "3       Chevrolet Cavalier 4dr   0   0   0   0   0   0   0  14810  13884  2.2   \n",
       "4    Chevrolet Cavalier LS 2dr   0   0   0   0   0   0   0  16385  15357  2.2   \n",
       "\n",
       "   11   12    13    14      15     16     17    18  \n",
       "0   4  103  28.0  34.0  2370.0   98.0  167.0  66.0  \n",
       "1   4  103  28.0  34.0  2348.0   98.0  153.0  66.0  \n",
       "2   4  140  26.0  37.0  2617.0  104.0  183.0  69.0  \n",
       "3   4  140  26.0  37.0  2676.0  104.0  183.0  68.0  \n",
       "4   4  140  26.0  37.0  2617.0  104.0  183.0  69.0  "
      ]
     },
     "execution_count": 4,
     "metadata": {},
     "output_type": "execute_result"
    }
   ],
   "source": [
    "CarData[:5]"
   ]
  },
  {
   "cell_type": "markdown",
   "metadata": {},
   "source": [
    "Here is a link to the documentations of the function above:\n",
    "https://pandas.pydata.org/pandas-docs/stable/reference/api/pandas.read_fwf.html"
   ]
  },
  {
   "cell_type": "markdown",
   "metadata": {},
   "source": [
    "Adding column names to the dataset"
   ]
  },
  {
   "cell_type": "code",
   "execution_count": 5,
   "metadata": {},
   "outputs": [],
   "source": [
    "cNames = [\"Vehicle Name\", \"Sports Car?\", \"Sport Utility Vehicle?\",\"Wagon?\" ,\"Minivan?\" ,\"Pickup?\",\"All-Wheel Drive?\" ,\n",
    "          \"Rear-Wheel Drive?\",\"Suggested Retail Price\", \"Dealer Cost\" ,\"Engine Size\" ,\"Number of Cylinders\",\"Horsepower\",\n",
    "          \"City Miles Per Gallon\", \"Highway Miles Per Gallon\", \"Weight\", \"Wheel Base\" ,\"Length\" , \"Width\"]\n",
    "CarData.columns=cNames"
   ]
  },
  {
   "cell_type": "code",
   "execution_count": 6,
   "metadata": {
    "scrolled": true
   },
   "outputs": [
    {
     "data": {
      "text/html": [
       "<div>\n",
       "<style scoped>\n",
       "    .dataframe tbody tr th:only-of-type {\n",
       "        vertical-align: middle;\n",
       "    }\n",
       "\n",
       "    .dataframe tbody tr th {\n",
       "        vertical-align: top;\n",
       "    }\n",
       "\n",
       "    .dataframe thead th {\n",
       "        text-align: right;\n",
       "    }\n",
       "</style>\n",
       "<table border=\"1\" class=\"dataframe\">\n",
       "  <thead>\n",
       "    <tr style=\"text-align: right;\">\n",
       "      <th></th>\n",
       "      <th>Vehicle Name</th>\n",
       "      <th>Sports Car?</th>\n",
       "      <th>Sport Utility Vehicle?</th>\n",
       "      <th>Wagon?</th>\n",
       "      <th>Minivan?</th>\n",
       "      <th>Pickup?</th>\n",
       "      <th>All-Wheel Drive?</th>\n",
       "      <th>Rear-Wheel Drive?</th>\n",
       "      <th>Suggested Retail Price</th>\n",
       "      <th>Dealer Cost</th>\n",
       "      <th>Engine Size</th>\n",
       "      <th>Number of Cylinders</th>\n",
       "      <th>Horsepower</th>\n",
       "      <th>City Miles Per Gallon</th>\n",
       "      <th>Highway Miles Per Gallon</th>\n",
       "      <th>Weight</th>\n",
       "      <th>Wheel Base</th>\n",
       "      <th>Length</th>\n",
       "      <th>Width</th>\n",
       "    </tr>\n",
       "  </thead>\n",
       "  <tbody>\n",
       "    <tr>\n",
       "      <th>0</th>\n",
       "      <td>Chevrolet Aveo 4dr</td>\n",
       "      <td>0</td>\n",
       "      <td>0</td>\n",
       "      <td>0</td>\n",
       "      <td>0</td>\n",
       "      <td>0</td>\n",
       "      <td>0</td>\n",
       "      <td>0</td>\n",
       "      <td>11690</td>\n",
       "      <td>10965</td>\n",
       "      <td>1.6</td>\n",
       "      <td>4</td>\n",
       "      <td>103</td>\n",
       "      <td>28.0</td>\n",
       "      <td>34.0</td>\n",
       "      <td>2370.0</td>\n",
       "      <td>98.0</td>\n",
       "      <td>167.0</td>\n",
       "      <td>66.0</td>\n",
       "    </tr>\n",
       "    <tr>\n",
       "      <th>1</th>\n",
       "      <td>Chevrolet Aveo LS 4dr hatch</td>\n",
       "      <td>0</td>\n",
       "      <td>0</td>\n",
       "      <td>0</td>\n",
       "      <td>0</td>\n",
       "      <td>0</td>\n",
       "      <td>0</td>\n",
       "      <td>0</td>\n",
       "      <td>12585</td>\n",
       "      <td>11802</td>\n",
       "      <td>1.6</td>\n",
       "      <td>4</td>\n",
       "      <td>103</td>\n",
       "      <td>28.0</td>\n",
       "      <td>34.0</td>\n",
       "      <td>2348.0</td>\n",
       "      <td>98.0</td>\n",
       "      <td>153.0</td>\n",
       "      <td>66.0</td>\n",
       "    </tr>\n",
       "  </tbody>\n",
       "</table>\n",
       "</div>"
      ],
      "text/plain": [
       "                  Vehicle Name  Sports Car?  Sport Utility Vehicle?  Wagon?  \\\n",
       "0           Chevrolet Aveo 4dr            0                       0       0   \n",
       "1  Chevrolet Aveo LS 4dr hatch            0                       0       0   \n",
       "\n",
       "   Minivan?  Pickup?  All-Wheel Drive?  Rear-Wheel Drive?  \\\n",
       "0         0        0                 0                  0   \n",
       "1         0        0                 0                  0   \n",
       "\n",
       "   Suggested Retail Price  Dealer Cost  Engine Size  Number of Cylinders  \\\n",
       "0                   11690        10965          1.6                    4   \n",
       "1                   12585        11802          1.6                    4   \n",
       "\n",
       "   Horsepower  City Miles Per Gallon  Highway Miles Per Gallon  Weight  \\\n",
       "0         103                   28.0                      34.0  2370.0   \n",
       "1         103                   28.0                      34.0  2348.0   \n",
       "\n",
       "   Wheel Base  Length  Width  \n",
       "0        98.0   167.0   66.0  \n",
       "1        98.0   153.0   66.0  "
      ]
     },
     "execution_count": 6,
     "metadata": {},
     "output_type": "execute_result"
    }
   ],
   "source": [
    "CarData[:2]"
   ]
  },
  {
   "cell_type": "markdown",
   "metadata": {},
   "source": [
    "---"
   ]
  },
  {
   "cell_type": "markdown",
   "metadata": {},
   "source": [
    "------------------"
   ]
  },
  {
   "cell_type": "markdown",
   "metadata": {},
   "source": [
    "# Tasks: <font color = purple> [total 80 points]</font> "
   ]
  },
  {
   "cell_type": "markdown",
   "metadata": {},
   "source": [
    "\n",
    "* Download the attached files to the same working sub-directory (folder)\n",
    "    * dataset file `carsData.dat` \n",
    "    * the assignment\\#2 notebook `HW02.ipynb` \n",
    "* Use the  sample output pdf file attached with the assignemnt as a guide to compare your code results\n",
    "* Provide your answers to the tasks below"
   ]
  },
  {
   "cell_type": "markdown",
   "metadata": {},
   "source": [
    "## ** <font color = darkred>Task 1-[26 points] + 2 extra credit</font> ** :\n",
    "#### <font color=blue> Query and preprocess the dataset:</font> \n",
    "\n",
    "Write Python commands to Select a subset of the dataset and clean it\n",
    "\n",
    " * a) <font color = red> [8 points]</font> Create a boolean mask and apply it to the `CarsData` dataframe to select the data of all _sport cars_ (i.e.,`'Sports Car?'` column whith value =1) that has hoorsepower >=350. Name  the resulted dataframe  as `SportCars` \n",
    " \n",
    " * b) <font color = red> [8 points]</font> There are  missing values in the `'City Miles Per Gallon'` and `'Highway Miles Per Gallon'` columns in the dataframe `SportCars` (result of task 1.a). Write code to identify the location of these missing values, then  replace the missing values with the minimum value in their corresponding columns. i.e. replace the missing value(s) in the `City Miles Per Gallon` column with the minimum value in that column of the `SportCars` (not the entire dataset). Similarily the missing value(s) in `'Highway Miles Per Gallon'` is to be replaced by the minimum value in the `'Highway Miles Per Gallon'` column.\n",
    " \n",
    " * c) <font color = red> [4 points]</font> From `SportCars` dataframe remove the column `'Sports Car?'` and every column that has 0's (zeros) in ALL of its values.  <font color = red> [2 extra points]</font> for compact code to identify columns with 0's \n",
    " \n",
    " * d) <font color = red> [6 points]</font> Add  new column to `SportCars` labeled `ScaledCityMPG` which is calculated by normalizing (scaling) the `City Miles Per Gallon` column to  values in the range `[0,1]`\n",
    "  "
   ]
  },
  {
   "cell_type": "markdown",
   "metadata": {},
   "source": [
    "## <font color=Green> Task 1 Answer: </font>"
   ]
  },
  {
   "cell_type": "markdown",
   "metadata": {},
   "source": [
    "a) <font color = red> [8 points]</font> Create a boolean mask and apply it to the `CarsData` dataframe to select the data of all _sport cars_ (i.e.,`'Sports Car?'` column whith value =1) that has hoorsepower >=350. Name  the resulted dataframe  as `SportCars` "
   ]
  },
  {
   "cell_type": "code",
   "execution_count": 7,
   "metadata": {},
   "outputs": [],
   "source": [
    "SCarsMask= (CarData['Sports Car?']==1)&(CarData['Horsepower']>=350)\n",
    "SportCars= CarData[SCarsMask]"
   ]
  },
  {
   "cell_type": "code",
   "execution_count": 8,
   "metadata": {},
   "outputs": [
    {
     "data": {
      "text/plain": [
       "(9, 19)"
      ]
     },
     "execution_count": 8,
     "metadata": {},
     "output_type": "execute_result"
    }
   ],
   "source": [
    "SportCars.shape"
   ]
  },
  {
   "cell_type": "code",
   "execution_count": 9,
   "metadata": {},
   "outputs": [
    {
     "data": {
      "text/html": [
       "<div>\n",
       "<style scoped>\n",
       "    .dataframe tbody tr th:only-of-type {\n",
       "        vertical-align: middle;\n",
       "    }\n",
       "\n",
       "    .dataframe tbody tr th {\n",
       "        vertical-align: top;\n",
       "    }\n",
       "\n",
       "    .dataframe thead th {\n",
       "        text-align: right;\n",
       "    }\n",
       "</style>\n",
       "<table border=\"1\" class=\"dataframe\">\n",
       "  <thead>\n",
       "    <tr style=\"text-align: right;\">\n",
       "      <th></th>\n",
       "      <th>Vehicle Name</th>\n",
       "      <th>Sports Car?</th>\n",
       "      <th>Sport Utility Vehicle?</th>\n",
       "      <th>Wagon?</th>\n",
       "      <th>Minivan?</th>\n",
       "      <th>Pickup?</th>\n",
       "      <th>All-Wheel Drive?</th>\n",
       "      <th>Rear-Wheel Drive?</th>\n",
       "      <th>Suggested Retail Price</th>\n",
       "      <th>Dealer Cost</th>\n",
       "      <th>Engine Size</th>\n",
       "      <th>Number of Cylinders</th>\n",
       "      <th>Horsepower</th>\n",
       "      <th>City Miles Per Gallon</th>\n",
       "      <th>Highway Miles Per Gallon</th>\n",
       "      <th>Weight</th>\n",
       "      <th>Wheel Base</th>\n",
       "      <th>Length</th>\n",
       "      <th>Width</th>\n",
       "    </tr>\n",
       "  </thead>\n",
       "  <tbody>\n",
       "    <tr>\n",
       "      <th>246</th>\n",
       "      <td>Audi RS 6 4dr</td>\n",
       "      <td>1</td>\n",
       "      <td>0</td>\n",
       "      <td>0</td>\n",
       "      <td>0</td>\n",
       "      <td>0</td>\n",
       "      <td>0</td>\n",
       "      <td>0</td>\n",
       "      <td>84600</td>\n",
       "      <td>76417</td>\n",
       "      <td>4.2</td>\n",
       "      <td>8</td>\n",
       "      <td>450</td>\n",
       "      <td>15.0</td>\n",
       "      <td>22.0</td>\n",
       "      <td>4024.0</td>\n",
       "      <td>109.0</td>\n",
       "      <td>191.0</td>\n",
       "      <td>78.0</td>\n",
       "    </tr>\n",
       "    <tr>\n",
       "      <th>255</th>\n",
       "      <td>Chevrolet Corvette 2dr</td>\n",
       "      <td>1</td>\n",
       "      <td>0</td>\n",
       "      <td>0</td>\n",
       "      <td>0</td>\n",
       "      <td>0</td>\n",
       "      <td>0</td>\n",
       "      <td>1</td>\n",
       "      <td>44535</td>\n",
       "      <td>39068</td>\n",
       "      <td>5.7</td>\n",
       "      <td>8</td>\n",
       "      <td>350</td>\n",
       "      <td>18.0</td>\n",
       "      <td>25.0</td>\n",
       "      <td>3246.0</td>\n",
       "      <td>105.0</td>\n",
       "      <td>180.0</td>\n",
       "      <td>74.0</td>\n",
       "    </tr>\n",
       "    <tr>\n",
       "      <th>256</th>\n",
       "      <td>Chevrolet Corvette convertible 2dr</td>\n",
       "      <td>1</td>\n",
       "      <td>0</td>\n",
       "      <td>0</td>\n",
       "      <td>0</td>\n",
       "      <td>0</td>\n",
       "      <td>0</td>\n",
       "      <td>1</td>\n",
       "      <td>51535</td>\n",
       "      <td>45193</td>\n",
       "      <td>5.7</td>\n",
       "      <td>8</td>\n",
       "      <td>350</td>\n",
       "      <td>18.0</td>\n",
       "      <td>25.0</td>\n",
       "      <td>3248.0</td>\n",
       "      <td>105.0</td>\n",
       "      <td>180.0</td>\n",
       "      <td>74.0</td>\n",
       "    </tr>\n",
       "    <tr>\n",
       "      <th>258</th>\n",
       "      <td>Dodge Viper SRT-10 convertible 2dr</td>\n",
       "      <td>1</td>\n",
       "      <td>0</td>\n",
       "      <td>0</td>\n",
       "      <td>0</td>\n",
       "      <td>0</td>\n",
       "      <td>0</td>\n",
       "      <td>1</td>\n",
       "      <td>81795</td>\n",
       "      <td>74451</td>\n",
       "      <td>8.3</td>\n",
       "      <td>10</td>\n",
       "      <td>500</td>\n",
       "      <td>NaN</td>\n",
       "      <td>NaN</td>\n",
       "      <td>3410.0</td>\n",
       "      <td>99.0</td>\n",
       "      <td>176.0</td>\n",
       "      <td>75.0</td>\n",
       "    </tr>\n",
       "    <tr>\n",
       "      <th>266</th>\n",
       "      <td>Jaguar XKR coupe 2dr</td>\n",
       "      <td>1</td>\n",
       "      <td>0</td>\n",
       "      <td>0</td>\n",
       "      <td>0</td>\n",
       "      <td>0</td>\n",
       "      <td>0</td>\n",
       "      <td>1</td>\n",
       "      <td>81995</td>\n",
       "      <td>74676</td>\n",
       "      <td>4.2</td>\n",
       "      <td>8</td>\n",
       "      <td>390</td>\n",
       "      <td>16.0</td>\n",
       "      <td>23.0</td>\n",
       "      <td>3865.0</td>\n",
       "      <td>102.0</td>\n",
       "      <td>187.0</td>\n",
       "      <td>71.0</td>\n",
       "    </tr>\n",
       "  </tbody>\n",
       "</table>\n",
       "</div>"
      ],
      "text/plain": [
       "                           Vehicle Name  Sports Car?  Sport Utility Vehicle?  \\\n",
       "246                       Audi RS 6 4dr            1                       0   \n",
       "255              Chevrolet Corvette 2dr            1                       0   \n",
       "256  Chevrolet Corvette convertible 2dr            1                       0   \n",
       "258  Dodge Viper SRT-10 convertible 2dr            1                       0   \n",
       "266                Jaguar XKR coupe 2dr            1                       0   \n",
       "\n",
       "     Wagon?  Minivan?  Pickup?  All-Wheel Drive?  Rear-Wheel Drive?  \\\n",
       "246       0         0        0                 0                  0   \n",
       "255       0         0        0                 0                  1   \n",
       "256       0         0        0                 0                  1   \n",
       "258       0         0        0                 0                  1   \n",
       "266       0         0        0                 0                  1   \n",
       "\n",
       "     Suggested Retail Price  Dealer Cost  Engine Size  Number of Cylinders  \\\n",
       "246                   84600        76417          4.2                    8   \n",
       "255                   44535        39068          5.7                    8   \n",
       "256                   51535        45193          5.7                    8   \n",
       "258                   81795        74451          8.3                   10   \n",
       "266                   81995        74676          4.2                    8   \n",
       "\n",
       "     Horsepower  City Miles Per Gallon  Highway Miles Per Gallon  Weight  \\\n",
       "246         450                   15.0                      22.0  4024.0   \n",
       "255         350                   18.0                      25.0  3246.0   \n",
       "256         350                   18.0                      25.0  3248.0   \n",
       "258         500                    NaN                       NaN  3410.0   \n",
       "266         390                   16.0                      23.0  3865.0   \n",
       "\n",
       "     Wheel Base  Length  Width  \n",
       "246       109.0   191.0   78.0  \n",
       "255       105.0   180.0   74.0  \n",
       "256       105.0   180.0   74.0  \n",
       "258        99.0   176.0   75.0  \n",
       "266       102.0   187.0   71.0  "
      ]
     },
     "execution_count": 9,
     "metadata": {},
     "output_type": "execute_result"
    }
   ],
   "source": [
    "SportCars[:5]"
   ]
  },
  {
   "cell_type": "markdown",
   "metadata": {},
   "source": [
    "--------"
   ]
  },
  {
   "cell_type": "markdown",
   "metadata": {},
   "source": [
    "b) <font color = red> [8 points]</font> There are  missing values in the `'City Miles Per Gallon'` and `'Highway Miles Per Gallon'` columns in the dataframe `SportCars` (result of task 1.a). Write code to identify the location of these missing values, then  replace the missing values with the minimum value in their corresponding columns. i.e. replace the missing value(s) in the `City Miles Per Gallon` column with the minimum value in that column of the `SportCars` (not the entire dataset). Similarily the missing value(s) in `'Highway Miles Per Gallon'` is to be replaced by the minimum value in the `'Highway Miles Per Gallon'` column."
   ]
  },
  {
   "cell_type": "code",
   "execution_count": 10,
   "metadata": {},
   "outputs": [],
   "source": [
    "missing_city_mpg = SportCars['City Miles Per Gallon'].isna()\n"
   ]
  },
  {
   "cell_type": "code",
   "execution_count": 11,
   "metadata": {},
   "outputs": [],
   "source": [
    "missing_highway_mpg = SportCars['Highway Miles Per Gallon'].isna()\n"
   ]
  },
  {
   "cell_type": "code",
   "execution_count": 12,
   "metadata": {},
   "outputs": [],
   "source": [
    "# Replacing Nan values in 'City Miles Per Gallon' with the City min value above\n",
    "SportCars.loc[missing_city_mpg, 'City Miles Per Gallon'] = SportCars['City Miles Per Gallon'].min()\n",
    "\n",
    "# Replacing Nan values in 'Highway Miles Per Gallon' with the Highway MPG min value above\n",
    "SportCars.loc[missing_highway_mpg, 'Highway Miles Per Gallon'] = SportCars['Highway Miles Per Gallon'].min() \n"
   ]
  },
  {
   "cell_type": "markdown",
   "metadata": {},
   "source": [
    "__Note:__ If you got a warning like the above, which says you are working on a copy and any changes you made will be available in the copy only, and in this case it is fine and that's what we want, but sometimes you may want to change the original dataframe so you need to be careful in that case"
   ]
  },
  {
   "cell_type": "markdown",
   "metadata": {},
   "source": [
    "Checking if all nan values were correctly replaced By counting "
   ]
  },
  {
   "cell_type": "code",
   "execution_count": 13,
   "metadata": {
    "scrolled": false
   },
   "outputs": [
    {
     "data": {
      "text/plain": [
       "Vehicle Name                0\n",
       "Sports Car?                 0\n",
       "Sport Utility Vehicle?      0\n",
       "Wagon?                      0\n",
       "Minivan?                    0\n",
       "Pickup?                     0\n",
       "All-Wheel Drive?            0\n",
       "Rear-Wheel Drive?           0\n",
       "Suggested Retail Price      0\n",
       "Dealer Cost                 0\n",
       "Engine Size                 0\n",
       "Number of Cylinders         0\n",
       "Horsepower                  0\n",
       "City Miles Per Gallon       0\n",
       "Highway Miles Per Gallon    0\n",
       "Weight                      0\n",
       "Wheel Base                  0\n",
       "Length                      0\n",
       "Width                       0\n",
       "dtype: int64"
      ]
     },
     "execution_count": 13,
     "metadata": {},
     "output_type": "execute_result"
    }
   ],
   "source": [
    "SportCars.isnull().sum()"
   ]
  },
  {
   "cell_type": "markdown",
   "metadata": {},
   "source": [
    "--------"
   ]
  },
  {
   "cell_type": "markdown",
   "metadata": {},
   "source": [
    "c) <font color = red> [4 points]</font> From `SportCars` dataframe remove the column `'Sports Car?'` and every column that has 0's (zeros) in ALL of its values.  <font color = red> [2 extra points]</font> for compact code to identify columns with 0's \n",
    " "
   ]
  },
  {
   "cell_type": "code",
   "execution_count": 14,
   "metadata": {},
   "outputs": [],
   "source": [
    "#Dropping 'Sports Car?' column\n",
    "SportCars = SportCars.drop('Sports Car?', axis=1)\n",
    " "
   ]
  },
  {
   "cell_type": "markdown",
   "metadata": {},
   "source": [
    "Verification"
   ]
  },
  {
   "cell_type": "code",
   "execution_count": 15,
   "metadata": {},
   "outputs": [
    {
     "data": {
      "text/plain": [
       "Index(['Vehicle Name', 'Sport Utility Vehicle?', 'Wagon?', 'Minivan?',\n",
       "       'Pickup?', 'All-Wheel Drive?', 'Rear-Wheel Drive?',\n",
       "       'Suggested Retail Price', 'Dealer Cost', 'Engine Size',\n",
       "       'Number of Cylinders', 'Horsepower', 'City Miles Per Gallon',\n",
       "       'Highway Miles Per Gallon', 'Weight', 'Wheel Base', 'Length', 'Width'],\n",
       "      dtype='object')"
      ]
     },
     "execution_count": 15,
     "metadata": {},
     "output_type": "execute_result"
    }
   ],
   "source": [
    "SportCars.columns"
   ]
  },
  {
   "cell_type": "code",
   "execution_count": 16,
   "metadata": {},
   "outputs": [
    {
     "data": {
      "text/plain": [
       "(9, 18)"
      ]
     },
     "execution_count": 16,
     "metadata": {},
     "output_type": "execute_result"
    }
   ],
   "source": [
    "SportCars.shape"
   ]
  },
  {
   "cell_type": "markdown",
   "metadata": {},
   "source": [
    "Now remove all columns which have 0's in all values "
   ]
  },
  {
   "cell_type": "code",
   "execution_count": 17,
   "metadata": {},
   "outputs": [],
   "source": [
    "#Now remove all columns which have 0's in all values  \n",
    "    \n",
    "SportCars = SportCars.loc[:, (SportCars != 0).any(axis=0)]\n",
    "    "
   ]
  },
  {
   "cell_type": "markdown",
   "metadata": {},
   "source": [
    "Verification "
   ]
  },
  {
   "cell_type": "code",
   "execution_count": 18,
   "metadata": {},
   "outputs": [
    {
     "data": {
      "text/plain": [
       "(9, 13)"
      ]
     },
     "execution_count": 18,
     "metadata": {},
     "output_type": "execute_result"
    }
   ],
   "source": [
    "SportCars.shape"
   ]
  },
  {
   "cell_type": "code",
   "execution_count": 19,
   "metadata": {},
   "outputs": [
    {
     "data": {
      "text/plain": [
       "Index(['Vehicle Name', 'Rear-Wheel Drive?', 'Suggested Retail Price',\n",
       "       'Dealer Cost', 'Engine Size', 'Number of Cylinders', 'Horsepower',\n",
       "       'City Miles Per Gallon', 'Highway Miles Per Gallon', 'Weight',\n",
       "       'Wheel Base', 'Length', 'Width'],\n",
       "      dtype='object')"
      ]
     },
     "execution_count": 19,
     "metadata": {},
     "output_type": "execute_result"
    }
   ],
   "source": [
    "SportCars.columns"
   ]
  },
  {
   "cell_type": "markdown",
   "metadata": {},
   "source": [
    "--------"
   ]
  },
  {
   "cell_type": "markdown",
   "metadata": {},
   "source": [
    "d) <font color = red> [6 points]</font> Add  new column to `SportCars` labeled `ScaledCityMPG` which is calculated by normalizing (scaling) the `City Miles Per Gallon` column to  values in the range `[0,1]`\n",
    "  "
   ]
  },
  {
   "cell_type": "code",
   "execution_count": 20,
   "metadata": {},
   "outputs": [],
   "source": [
    "#created new column from normalized [0-1] 'City Miles Per Gallon' column\n",
    "from sklearn.preprocessing import MinMaxScaler\n",
    "scaler = MinMaxScaler()\n",
    "scaled_city_mpg = scaler.fit_transform(SportCars[['City Miles Per Gallon']])\n",
    "SportCars['ScaledCityMPG'] = scaled_city_mpg\n"
   ]
  },
  {
   "cell_type": "markdown",
   "metadata": {},
   "source": [
    "Verification "
   ]
  },
  {
   "cell_type": "code",
   "execution_count": 21,
   "metadata": {},
   "outputs": [
    {
     "data": {
      "text/html": [
       "<div>\n",
       "<style scoped>\n",
       "    .dataframe tbody tr th:only-of-type {\n",
       "        vertical-align: middle;\n",
       "    }\n",
       "\n",
       "    .dataframe tbody tr th {\n",
       "        vertical-align: top;\n",
       "    }\n",
       "\n",
       "    .dataframe thead th {\n",
       "        text-align: right;\n",
       "    }\n",
       "</style>\n",
       "<table border=\"1\" class=\"dataframe\">\n",
       "  <thead>\n",
       "    <tr style=\"text-align: right;\">\n",
       "      <th></th>\n",
       "      <th>Vehicle Name</th>\n",
       "      <th>Rear-Wheel Drive?</th>\n",
       "      <th>Suggested Retail Price</th>\n",
       "      <th>Dealer Cost</th>\n",
       "      <th>Engine Size</th>\n",
       "      <th>Number of Cylinders</th>\n",
       "      <th>Horsepower</th>\n",
       "      <th>City Miles Per Gallon</th>\n",
       "      <th>Highway Miles Per Gallon</th>\n",
       "      <th>Weight</th>\n",
       "      <th>Wheel Base</th>\n",
       "      <th>Length</th>\n",
       "      <th>Width</th>\n",
       "      <th>ScaledCityMPG</th>\n",
       "    </tr>\n",
       "  </thead>\n",
       "  <tbody>\n",
       "    <tr>\n",
       "      <th>246</th>\n",
       "      <td>Audi RS 6 4dr</td>\n",
       "      <td>0</td>\n",
       "      <td>84600</td>\n",
       "      <td>76417</td>\n",
       "      <td>4.2</td>\n",
       "      <td>8</td>\n",
       "      <td>450</td>\n",
       "      <td>15.0</td>\n",
       "      <td>22.0</td>\n",
       "      <td>4024.0</td>\n",
       "      <td>109.0</td>\n",
       "      <td>191.0</td>\n",
       "      <td>78.0</td>\n",
       "      <td>0.4</td>\n",
       "    </tr>\n",
       "    <tr>\n",
       "      <th>255</th>\n",
       "      <td>Chevrolet Corvette 2dr</td>\n",
       "      <td>1</td>\n",
       "      <td>44535</td>\n",
       "      <td>39068</td>\n",
       "      <td>5.7</td>\n",
       "      <td>8</td>\n",
       "      <td>350</td>\n",
       "      <td>18.0</td>\n",
       "      <td>25.0</td>\n",
       "      <td>3246.0</td>\n",
       "      <td>105.0</td>\n",
       "      <td>180.0</td>\n",
       "      <td>74.0</td>\n",
       "      <td>1.0</td>\n",
       "    </tr>\n",
       "    <tr>\n",
       "      <th>256</th>\n",
       "      <td>Chevrolet Corvette convertible 2dr</td>\n",
       "      <td>1</td>\n",
       "      <td>51535</td>\n",
       "      <td>45193</td>\n",
       "      <td>5.7</td>\n",
       "      <td>8</td>\n",
       "      <td>350</td>\n",
       "      <td>18.0</td>\n",
       "      <td>25.0</td>\n",
       "      <td>3248.0</td>\n",
       "      <td>105.0</td>\n",
       "      <td>180.0</td>\n",
       "      <td>74.0</td>\n",
       "      <td>1.0</td>\n",
       "    </tr>\n",
       "    <tr>\n",
       "      <th>258</th>\n",
       "      <td>Dodge Viper SRT-10 convertible 2dr</td>\n",
       "      <td>1</td>\n",
       "      <td>81795</td>\n",
       "      <td>74451</td>\n",
       "      <td>8.3</td>\n",
       "      <td>10</td>\n",
       "      <td>500</td>\n",
       "      <td>13.0</td>\n",
       "      <td>19.0</td>\n",
       "      <td>3410.0</td>\n",
       "      <td>99.0</td>\n",
       "      <td>176.0</td>\n",
       "      <td>75.0</td>\n",
       "      <td>0.0</td>\n",
       "    </tr>\n",
       "    <tr>\n",
       "      <th>266</th>\n",
       "      <td>Jaguar XKR coupe 2dr</td>\n",
       "      <td>1</td>\n",
       "      <td>81995</td>\n",
       "      <td>74676</td>\n",
       "      <td>4.2</td>\n",
       "      <td>8</td>\n",
       "      <td>390</td>\n",
       "      <td>16.0</td>\n",
       "      <td>23.0</td>\n",
       "      <td>3865.0</td>\n",
       "      <td>102.0</td>\n",
       "      <td>187.0</td>\n",
       "      <td>71.0</td>\n",
       "      <td>0.6</td>\n",
       "    </tr>\n",
       "    <tr>\n",
       "      <th>267</th>\n",
       "      <td>Jaguar XKR convertible 2dr</td>\n",
       "      <td>1</td>\n",
       "      <td>86995</td>\n",
       "      <td>79226</td>\n",
       "      <td>4.2</td>\n",
       "      <td>8</td>\n",
       "      <td>390</td>\n",
       "      <td>16.0</td>\n",
       "      <td>23.0</td>\n",
       "      <td>4042.0</td>\n",
       "      <td>102.0</td>\n",
       "      <td>187.0</td>\n",
       "      <td>71.0</td>\n",
       "      <td>0.6</td>\n",
       "    </tr>\n",
       "    <tr>\n",
       "      <th>274</th>\n",
       "      <td>Mercedes-Benz SL55 AMG 2dr</td>\n",
       "      <td>1</td>\n",
       "      <td>121770</td>\n",
       "      <td>113388</td>\n",
       "      <td>5.5</td>\n",
       "      <td>8</td>\n",
       "      <td>493</td>\n",
       "      <td>14.0</td>\n",
       "      <td>21.0</td>\n",
       "      <td>4235.0</td>\n",
       "      <td>101.0</td>\n",
       "      <td>179.0</td>\n",
       "      <td>72.0</td>\n",
       "      <td>0.2</td>\n",
       "    </tr>\n",
       "    <tr>\n",
       "      <th>275</th>\n",
       "      <td>Mercedes-Benz SL600 convertible 2dr</td>\n",
       "      <td>1</td>\n",
       "      <td>126670</td>\n",
       "      <td>117854</td>\n",
       "      <td>5.5</td>\n",
       "      <td>12</td>\n",
       "      <td>493</td>\n",
       "      <td>13.0</td>\n",
       "      <td>19.0</td>\n",
       "      <td>4429.0</td>\n",
       "      <td>101.0</td>\n",
       "      <td>179.0</td>\n",
       "      <td>72.0</td>\n",
       "      <td>0.0</td>\n",
       "    </tr>\n",
       "    <tr>\n",
       "      <th>287</th>\n",
       "      <td>Porsche 911 GT2 2dr</td>\n",
       "      <td>1</td>\n",
       "      <td>192465</td>\n",
       "      <td>173560</td>\n",
       "      <td>3.6</td>\n",
       "      <td>6</td>\n",
       "      <td>477</td>\n",
       "      <td>17.0</td>\n",
       "      <td>24.0</td>\n",
       "      <td>3131.0</td>\n",
       "      <td>93.0</td>\n",
       "      <td>175.0</td>\n",
       "      <td>72.0</td>\n",
       "      <td>0.8</td>\n",
       "    </tr>\n",
       "  </tbody>\n",
       "</table>\n",
       "</div>"
      ],
      "text/plain": [
       "                            Vehicle Name  Rear-Wheel Drive?  \\\n",
       "246                        Audi RS 6 4dr                  0   \n",
       "255               Chevrolet Corvette 2dr                  1   \n",
       "256   Chevrolet Corvette convertible 2dr                  1   \n",
       "258   Dodge Viper SRT-10 convertible 2dr                  1   \n",
       "266                 Jaguar XKR coupe 2dr                  1   \n",
       "267           Jaguar XKR convertible 2dr                  1   \n",
       "274           Mercedes-Benz SL55 AMG 2dr                  1   \n",
       "275  Mercedes-Benz SL600 convertible 2dr                  1   \n",
       "287                  Porsche 911 GT2 2dr                  1   \n",
       "\n",
       "     Suggested Retail Price  Dealer Cost  Engine Size  Number of Cylinders  \\\n",
       "246                   84600        76417          4.2                    8   \n",
       "255                   44535        39068          5.7                    8   \n",
       "256                   51535        45193          5.7                    8   \n",
       "258                   81795        74451          8.3                   10   \n",
       "266                   81995        74676          4.2                    8   \n",
       "267                   86995        79226          4.2                    8   \n",
       "274                  121770       113388          5.5                    8   \n",
       "275                  126670       117854          5.5                   12   \n",
       "287                  192465       173560          3.6                    6   \n",
       "\n",
       "     Horsepower  City Miles Per Gallon  Highway Miles Per Gallon  Weight  \\\n",
       "246         450                   15.0                      22.0  4024.0   \n",
       "255         350                   18.0                      25.0  3246.0   \n",
       "256         350                   18.0                      25.0  3248.0   \n",
       "258         500                   13.0                      19.0  3410.0   \n",
       "266         390                   16.0                      23.0  3865.0   \n",
       "267         390                   16.0                      23.0  4042.0   \n",
       "274         493                   14.0                      21.0  4235.0   \n",
       "275         493                   13.0                      19.0  4429.0   \n",
       "287         477                   17.0                      24.0  3131.0   \n",
       "\n",
       "     Wheel Base  Length  Width  ScaledCityMPG  \n",
       "246       109.0   191.0   78.0            0.4  \n",
       "255       105.0   180.0   74.0            1.0  \n",
       "256       105.0   180.0   74.0            1.0  \n",
       "258        99.0   176.0   75.0            0.0  \n",
       "266       102.0   187.0   71.0            0.6  \n",
       "267       102.0   187.0   71.0            0.6  \n",
       "274       101.0   179.0   72.0            0.2  \n",
       "275       101.0   179.0   72.0            0.0  \n",
       "287        93.0   175.0   72.0            0.8  "
      ]
     },
     "execution_count": 21,
     "metadata": {},
     "output_type": "execute_result"
    }
   ],
   "source": [
    "SportCars"
   ]
  },
  {
   "cell_type": "markdown",
   "metadata": {},
   "source": [
    "## ** <font color = darkred>Task 2-[16 points]</font> ** :\n",
    "#### <font color=blue> Extract some statistical data:</font> \n",
    "\n",
    "Write Python commands to Statistically describe the selected `SportCars` data using the following columns `[ 'Suggested Retail Price', 'Engine Size', 'Number of Cylinders', 'Horsepower', 'City Miles Per Gallon', 'Highway Miles Per Gallon', 'Weight']`  \n",
    "   \n",
    " * a) <font color = red> [4 points]</font> Show __descriptive statstics__ table of the data using all ordinal columns above\n",
    " * b) <font color = red> [4 points]</font> Show and plot the __correlation matrix__ of the selected data in(`SportCars`)\n",
    " * c) <font color = red> [4 points]</font> Plot the __scatter matrix__ of the selected data \n",
    "\n",
    " * d)  <font color = red> [4 points]</font> From the stats and the two plots in (b and c) above describe the following:\n",
    "   * relationships (i.e. what happen to the others when one increse/decrease) between MPG (city or highway) and each of the following:\n",
    "       * `Number of Cylinders`, `Suggested Retail Price`, `horsepower`, `weight`, and  `Engine Size`\n",
    "   * Pairwise Correlation (negative, positive, or no correlation) between `Engine Size`, `Number of Cylinders`, `horsepower`, and `weight`     "
   ]
  },
  {
   "cell_type": "markdown",
   "metadata": {},
   "source": [
    "## <font color=Green> Task 2 Answer: </font>"
   ]
  },
  {
   "cell_type": "code",
   "execution_count": 22,
   "metadata": {},
   "outputs": [],
   "source": [
    "import matplotlib.pyplot as plt"
   ]
  },
  {
   "cell_type": "markdown",
   "metadata": {},
   "source": [
    "a) <font color = red> [4 points]</font> Show __descriptive statstics__ table of the data using all ordinal columns above"
   ]
  },
  {
   "cell_type": "code",
   "execution_count": 23,
   "metadata": {},
   "outputs": [
    {
     "data": {
      "text/html": [
       "<div>\n",
       "<style scoped>\n",
       "    .dataframe tbody tr th:only-of-type {\n",
       "        vertical-align: middle;\n",
       "    }\n",
       "\n",
       "    .dataframe tbody tr th {\n",
       "        vertical-align: top;\n",
       "    }\n",
       "\n",
       "    .dataframe thead th {\n",
       "        text-align: right;\n",
       "    }\n",
       "</style>\n",
       "<table border=\"1\" class=\"dataframe\">\n",
       "  <thead>\n",
       "    <tr style=\"text-align: right;\">\n",
       "      <th></th>\n",
       "      <th>Suggested Retail Price</th>\n",
       "      <th>Engine Size</th>\n",
       "      <th>Number of Cylinders</th>\n",
       "      <th>Horsepower</th>\n",
       "      <th>City Miles Per Gallon</th>\n",
       "      <th>Highway Miles Per Gallon</th>\n",
       "      <th>Weight</th>\n",
       "    </tr>\n",
       "  </thead>\n",
       "  <tbody>\n",
       "    <tr>\n",
       "      <th>count</th>\n",
       "      <td>9.000000</td>\n",
       "      <td>9.000000</td>\n",
       "      <td>9.000000</td>\n",
       "      <td>9.000000</td>\n",
       "      <td>9.000000</td>\n",
       "      <td>9.000000</td>\n",
       "      <td>9.000000</td>\n",
       "    </tr>\n",
       "    <tr>\n",
       "      <th>mean</th>\n",
       "      <td>96928.888889</td>\n",
       "      <td>5.211111</td>\n",
       "      <td>8.444444</td>\n",
       "      <td>432.555556</td>\n",
       "      <td>15.555556</td>\n",
       "      <td>22.333333</td>\n",
       "      <td>3736.666667</td>\n",
       "    </tr>\n",
       "    <tr>\n",
       "      <th>std</th>\n",
       "      <td>44912.730710</td>\n",
       "      <td>1.407519</td>\n",
       "      <td>1.666667</td>\n",
       "      <td>62.638070</td>\n",
       "      <td>1.943651</td>\n",
       "      <td>2.291288</td>\n",
       "      <td>483.866201</td>\n",
       "    </tr>\n",
       "    <tr>\n",
       "      <th>min</th>\n",
       "      <td>44535.000000</td>\n",
       "      <td>3.600000</td>\n",
       "      <td>6.000000</td>\n",
       "      <td>350.000000</td>\n",
       "      <td>13.000000</td>\n",
       "      <td>19.000000</td>\n",
       "      <td>3131.000000</td>\n",
       "    </tr>\n",
       "    <tr>\n",
       "      <th>25%</th>\n",
       "      <td>81795.000000</td>\n",
       "      <td>4.200000</td>\n",
       "      <td>8.000000</td>\n",
       "      <td>390.000000</td>\n",
       "      <td>14.000000</td>\n",
       "      <td>21.000000</td>\n",
       "      <td>3248.000000</td>\n",
       "    </tr>\n",
       "    <tr>\n",
       "      <th>50%</th>\n",
       "      <td>84600.000000</td>\n",
       "      <td>5.500000</td>\n",
       "      <td>8.000000</td>\n",
       "      <td>450.000000</td>\n",
       "      <td>16.000000</td>\n",
       "      <td>23.000000</td>\n",
       "      <td>3865.000000</td>\n",
       "    </tr>\n",
       "    <tr>\n",
       "      <th>75%</th>\n",
       "      <td>121770.000000</td>\n",
       "      <td>5.700000</td>\n",
       "      <td>8.000000</td>\n",
       "      <td>493.000000</td>\n",
       "      <td>17.000000</td>\n",
       "      <td>24.000000</td>\n",
       "      <td>4042.000000</td>\n",
       "    </tr>\n",
       "    <tr>\n",
       "      <th>max</th>\n",
       "      <td>192465.000000</td>\n",
       "      <td>8.300000</td>\n",
       "      <td>12.000000</td>\n",
       "      <td>500.000000</td>\n",
       "      <td>18.000000</td>\n",
       "      <td>25.000000</td>\n",
       "      <td>4429.000000</td>\n",
       "    </tr>\n",
       "  </tbody>\n",
       "</table>\n",
       "</div>"
      ],
      "text/plain": [
       "       Suggested Retail Price  Engine Size  Number of Cylinders  Horsepower  \\\n",
       "count                9.000000     9.000000             9.000000    9.000000   \n",
       "mean             96928.888889     5.211111             8.444444  432.555556   \n",
       "std              44912.730710     1.407519             1.666667   62.638070   \n",
       "min              44535.000000     3.600000             6.000000  350.000000   \n",
       "25%              81795.000000     4.200000             8.000000  390.000000   \n",
       "50%              84600.000000     5.500000             8.000000  450.000000   \n",
       "75%             121770.000000     5.700000             8.000000  493.000000   \n",
       "max             192465.000000     8.300000            12.000000  500.000000   \n",
       "\n",
       "       City Miles Per Gallon  Highway Miles Per Gallon       Weight  \n",
       "count               9.000000                  9.000000     9.000000  \n",
       "mean               15.555556                 22.333333  3736.666667  \n",
       "std                 1.943651                  2.291288   483.866201  \n",
       "min                13.000000                 19.000000  3131.000000  \n",
       "25%                14.000000                 21.000000  3248.000000  \n",
       "50%                16.000000                 23.000000  3865.000000  \n",
       "75%                17.000000                 24.000000  4042.000000  \n",
       "max                18.000000                 25.000000  4429.000000  "
      ]
     },
     "execution_count": 23,
     "metadata": {},
     "output_type": "execute_result"
    }
   ],
   "source": [
    "#descriptive statstics table of the selected columns\n",
    "SportCars[['Suggested Retail Price', 'Engine Size', 'Number of Cylinders', 'Horsepower', 'City Miles Per Gallon', 'Highway Miles Per Gallon', 'Weight']].describe()\n",
    "\n"
   ]
  },
  {
   "cell_type": "markdown",
   "metadata": {},
   "source": [
    "--------"
   ]
  },
  {
   "cell_type": "markdown",
   "metadata": {},
   "source": [
    "b) <font color = red> [4 points]</font> Show and plot the __correlation matrix__ of the selected data in(`SportCars`)"
   ]
  },
  {
   "cell_type": "code",
   "execution_count": 24,
   "metadata": {},
   "outputs": [
    {
     "data": {
      "image/png": "[encoded data removed]",
      "text/plain": [
       "<Figure size 640x480 with 2 Axes>"
      ]
     },
     "metadata": {},
     "output_type": "display_data"
    }
   ],
   "source": [
    "# correlation matrix of the selected columns\n",
    "\n",
    "import seaborn as sns\n",
    "\n",
    "selected_cols = ['Suggested Retail Price', 'Engine Size', 'Number of Cylinders', 'Horsepower', 'City Miles Per Gallon', 'Highway Miles Per Gallon', 'Weight']\n",
    "\n",
    "corr_matrix = SportCars[selected_cols].corr()\n",
    "\n",
    "sns.heatmap(corr_matrix, cmap='coolwarm')\n",
    "plt.title('Correlation Matrix of SportCars Data')\n",
    "plt.show()\n",
    "\n",
    "# For the color map you can use\n",
    "\n",
    "# cmp= plt.cm.get_cmap('Greens', 40)\n",
    "# mpgColors = cmp(SportCars['ScaledCityMPG'])\n",
    "\n",
    "# set the plot figure size to 10 x 4\n",
    "\n",
    "# Set the edge color of the bars as Green\n",
    "\n",
    "# since you used the dataframe \".plot\"  you need to remove the default  legend\n"
   ]
  },
  {
   "cell_type": "markdown",
   "metadata": {},
   "source": [
    "Correlation Matrix plot"
   ]
  },
  {
   "cell_type": "code",
   "execution_count": null,
   "metadata": {
    "scrolled": true
   },
   "outputs": [],
   "source": [
    " \n"
   ]
  },
  {
   "cell_type": "markdown",
   "metadata": {},
   "source": [
    "--------"
   ]
  },
  {
   "cell_type": "markdown",
   "metadata": {},
   "source": [
    "c) <font color = red> [4 points]</font> Plot the __scatter matrix__ of the selected data \n"
   ]
  },
  {
   "cell_type": "code",
   "execution_count": 25,
   "metadata": {
    "scrolled": false
   },
   "outputs": [
    {
     "data": {
      "image/png": "[encoded data removed]",
      "text/plain": [
       "<Figure size 1000x1000 with 49 Axes>"
      ]
     },
     "metadata": {},
     "output_type": "display_data"
    }
   ],
   "source": [
    "#catter matrix of selected columns\n",
    "from pandas.plotting import scatter_matrix\n",
    "selected_cols = ['Suggested Retail Price', 'Engine Size', 'Number of Cylinders', 'Horsepower', 'City Miles Per Gallon', 'Highway Miles Per Gallon', 'Weight']\n",
    "scatter_matrix(SportCars[selected_cols], figsize=(10,10))\n",
    "plt.show()\n",
    "\n",
    " "
   ]
  },
  {
   "cell_type": "markdown",
   "metadata": {},
   "source": [
    "--------"
   ]
  },
  {
   "cell_type": "markdown",
   "metadata": {},
   "source": [
    " d)  <font color = red> [4 points]</font> From the stats and the two plots in (b and c) above describe the following:"
   ]
  },
  {
   "cell_type": "markdown",
   "metadata": {},
   "source": [
    "#### Observations form the statistical analysis:\n",
    "\n",
    "* relationships (i.e. what happen to the others when one increse/decrease) between MPG (city or highway) and each of the following:\n",
    "     * `Number of Cylinders`:increases when MPG decreases\n",
    "     * `Suggested Retail Price`:increases when MPG increases\n",
    "     * `horsepower`: increases when MPG decreases\n",
    "     * `weight`:increases and MPG decreases\n",
    "     * `Engine Size` :increases and MPG decreases\n",
    "       \n",
    "    \n",
    "       \n",
    "* Pairwise Correlation (negative, positive, or no correlation) between :\n",
    "    * `Engine Size` Vs.:\n",
    "        * `Number of Cylinders`: positive\n",
    "        * `horsepower`: positive\n",
    "        * `weight: negative  \n",
    "    *  `Number of Cylinders` Vs.:\n",
    "        * `horsepower` : positive\n",
    "        * `weight`  : positive\n",
    "    *  `horsepower` Vs.:\n",
    "        * `weight` : positive \n",
    "   \n"
   ]
  },
  {
   "cell_type": "markdown",
   "metadata": {},
   "source": [
    "## ** <font color = darkred>Task 3-[38 points]</font> ** :\n",
    "#### <font color=blue> Make a bar chart using a subset of the data:</font> \n",
    "Using the `SportCars` dataframe Write Python commands for each of the follwoing:\n",
    "\n",
    " * a) <font color = red> [3 points]</font> create an array named `mpgColors` of 50 colors using the `Greens` colormap and map the colors to the values of `scaledCityMPG` column \n",
    " \n",
    " * b) <font color = red> [21 points]</font> make a bar plot using the column `'City Miles Per Gallon'`  to create visual comparison between the selected set of cars in `SportCars` as follows <font color = blue> [4 points each]</font> :\n",
    "     * set the plot figure size to 10 x 4 and  use `.bar()` method to make the plot\n",
    "     * plot `car names` as x-axis vs their `City Mpg` as y-axis\n",
    "         * Hint: Use a list/array of integers as x-axis instead of directly using the `car name` column\n",
    "     * let the space between the columns to be 30% of the space of each bar (hint: what would be the bar width?)\n",
    "     * Set the edge color of the bars as `Green` and the inside color from the colors `mpgColors` you created in subtask (3.1) above \n",
    "     * Make the x-axis ticks label as the car names (`Vehicle Name`), and make them in the middle of the bars, and rotate the ticks labels 90 degrees\n",
    "     * Add x-axis label as _\"Sport car make and model\"_, y-axis label as _\"City MPG\"_, and plot title as _\"City MPG: Sport cars with 350 or more Horsepower\"_\n",
    "     * Save the plot in an image file as __\"CityMPG-Hp350plus-SportCars.png\"__ .\n",
    "       \n",
    " * c) <font color = red> [14 points]</font> make a Horizontal Bar plot using the column `'City Miles Per Gallon'`  to create visual comparison between the selected set of cars in `SportCars` as follows <font color = blue> [2 points each]</font> :\n",
    "     * make the figure size as 5x7 and use `.barh()` method to make the plot\n",
    "     * make car names as y-axis tick labels, and the `'City Miles Per Gallon'` values as the x-axis\n",
    "     * use the color map created in task 3.1 above\n",
    "     * make the bar height to 60% of the bar space\n",
    "     * make the color of the bar's edge as green\n",
    "     * make the x-axis label as \"City MPG\" and the y-axis label as \"Sport car make and model\"\n",
    "     * make the plot title as \"City MPG: Sport cars with 350 or more Horsepower\""
   ]
  },
  {
   "cell_type": "markdown",
   "metadata": {},
   "source": [
    "## <font color=Green> Task 3 Answer: </font>"
   ]
  },
  {
   "cell_type": "markdown",
   "metadata": {},
   "source": [
    "a) <font color = red> [3 points]</font> create an array named `mpgColors` of 50 colors using the `Greens` colormap and map the colors to the values of `scaledCityMPG` column \n",
    " "
   ]
  },
  {
   "cell_type": "code",
   "execution_count": 26,
   "metadata": {},
   "outputs": [],
   "source": [
    "# create an array named mpgColors of 40 colors using the Greens colormap\n",
    "# and map the colors to the values of scaledCityMPG column \n",
    "\n",
    "num_colors = 40\n",
    "cmap = plt.get_cmap('Greens')\n",
    "vmin = min(SportCars['ScaledCityMPG'])\n",
    "vmax = max(SportCars['ScaledCityMPG'])\n",
    "values = np.linspace(vmin, vmax, num_colors)\n",
    "mpgColors = [cmap(value) for value in values]\n"
   ]
  },
  {
   "cell_type": "code",
   "execution_count": 27,
   "metadata": {},
   "outputs": [
    {
     "data": {
      "text/plain": [
       "[(0.9686274509803922, 0.9882352941176471, 0.9607843137254902, 1.0),\n",
       " (0.9553402537485582, 0.9830680507497117, 0.9452825836216839, 1.0),\n",
       " (0.9398385236447521, 0.977039600153787, 0.92719723183391, 1.0),\n",
       " (0.9265513264129182, 0.9718723567858516, 0.9116955017301038, 1.0),\n",
       " (0.9110495963091119, 0.965843906189927, 0.8936101499423299, 1.0)]"
      ]
     },
     "execution_count": 27,
     "metadata": {},
     "output_type": "execute_result"
    }
   ],
   "source": [
    "mpgColors[:5]"
   ]
  },
  {
   "cell_type": "markdown",
   "metadata": {},
   "source": [
    "--------"
   ]
  },
  {
   "cell_type": "markdown",
   "metadata": {},
   "source": [
    "\n",
    "b) <font color = red> [21 points]</font> make a bar plot using the column `'City Miles Per Gallon'`  to create visual comparison between the selected set of cars in `SportCars` "
   ]
  },
  {
   "cell_type": "code",
   "execution_count": 22,
   "metadata": {},
   "outputs": [
    {
     "ename": "NameError",
     "evalue": "name 'plt' is not defined",
     "output_type": "error",
     "traceback": [
      "\u001b[1;31m---------------------------------------------------------------------------\u001b[0m",
      "\u001b[1;31mNameError\u001b[0m                                 Traceback (most recent call last)",
      "\u001b[1;32m~\\AppData\\Local\\Temp\\ipykernel_13028\\3923878033.py\u001b[0m in \u001b[0;36m<module>\u001b[1;34m\u001b[0m\n\u001b[0;32m      4\u001b[0m \u001b[1;33m\u001b[0m\u001b[0m\n\u001b[0;32m      5\u001b[0m \u001b[0mnorm\u001b[0m \u001b[1;33m=\u001b[0m \u001b[0mmcolors\u001b[0m\u001b[1;33m.\u001b[0m\u001b[0mNormalize\u001b[0m\u001b[1;33m(\u001b[0m\u001b[0mvmin\u001b[0m\u001b[1;33m=\u001b[0m\u001b[0msubset\u001b[0m\u001b[1;33m[\u001b[0m\u001b[1;34m'City Miles Per Gallon'\u001b[0m\u001b[1;33m]\u001b[0m\u001b[1;33m.\u001b[0m\u001b[0mmin\u001b[0m\u001b[1;33m(\u001b[0m\u001b[1;33m)\u001b[0m\u001b[1;33m,\u001b[0m \u001b[0mvmax\u001b[0m\u001b[1;33m=\u001b[0m\u001b[0msubset\u001b[0m\u001b[1;33m[\u001b[0m\u001b[1;34m'City Miles Per Gallon'\u001b[0m\u001b[1;33m]\u001b[0m\u001b[1;33m.\u001b[0m\u001b[0mmax\u001b[0m\u001b[1;33m(\u001b[0m\u001b[1;33m)\u001b[0m\u001b[1;33m)\u001b[0m\u001b[1;33m\u001b[0m\u001b[1;33m\u001b[0m\u001b[0m\n\u001b[1;32m----> 6\u001b[1;33m \u001b[0mcolors\u001b[0m \u001b[1;33m=\u001b[0m \u001b[1;33m[\u001b[0m\u001b[0mplt\u001b[0m\u001b[1;33m.\u001b[0m\u001b[0mcm\u001b[0m\u001b[1;33m.\u001b[0m\u001b[0mGreens\u001b[0m\u001b[1;33m(\u001b[0m\u001b[0mnorm\u001b[0m\u001b[1;33m(\u001b[0m\u001b[0mvalue\u001b[0m\u001b[1;33m)\u001b[0m\u001b[1;33m)\u001b[0m \u001b[1;32mfor\u001b[0m \u001b[0mvalue\u001b[0m \u001b[1;32min\u001b[0m \u001b[0msubset\u001b[0m\u001b[1;33m[\u001b[0m\u001b[1;34m'City Miles Per Gallon'\u001b[0m\u001b[1;33m]\u001b[0m\u001b[1;33m]\u001b[0m\u001b[1;33m\u001b[0m\u001b[1;33m\u001b[0m\u001b[0m\n\u001b[0m\u001b[0;32m      7\u001b[0m \u001b[0msubset\u001b[0m\u001b[1;33m.\u001b[0m\u001b[0mplot\u001b[0m\u001b[1;33m.\u001b[0m\u001b[0mbar\u001b[0m\u001b[1;33m(\u001b[0m\u001b[0mx\u001b[0m\u001b[1;33m=\u001b[0m\u001b[1;34m'Vehicle Name'\u001b[0m\u001b[1;33m,\u001b[0m \u001b[0my\u001b[0m\u001b[1;33m=\u001b[0m\u001b[1;34m'City Miles Per Gallon'\u001b[0m\u001b[1;33m,\u001b[0m \u001b[0mcolor\u001b[0m\u001b[1;33m=\u001b[0m\u001b[0mcolors\u001b[0m\u001b[1;33m,\u001b[0m \u001b[0medgecolor\u001b[0m\u001b[1;33m=\u001b[0m\u001b[1;34m'black'\u001b[0m\u001b[1;33m)\u001b[0m\u001b[1;33m\u001b[0m\u001b[1;33m\u001b[0m\u001b[0m\n\u001b[0;32m      8\u001b[0m \u001b[1;33m\u001b[0m\u001b[0m\n",
      "\u001b[1;32m~\\AppData\\Local\\Temp\\ipykernel_13028\\3923878033.py\u001b[0m in \u001b[0;36m<listcomp>\u001b[1;34m(.0)\u001b[0m\n\u001b[0;32m      4\u001b[0m \u001b[1;33m\u001b[0m\u001b[0m\n\u001b[0;32m      5\u001b[0m \u001b[0mnorm\u001b[0m \u001b[1;33m=\u001b[0m \u001b[0mmcolors\u001b[0m\u001b[1;33m.\u001b[0m\u001b[0mNormalize\u001b[0m\u001b[1;33m(\u001b[0m\u001b[0mvmin\u001b[0m\u001b[1;33m=\u001b[0m\u001b[0msubset\u001b[0m\u001b[1;33m[\u001b[0m\u001b[1;34m'City Miles Per Gallon'\u001b[0m\u001b[1;33m]\u001b[0m\u001b[1;33m.\u001b[0m\u001b[0mmin\u001b[0m\u001b[1;33m(\u001b[0m\u001b[1;33m)\u001b[0m\u001b[1;33m,\u001b[0m \u001b[0mvmax\u001b[0m\u001b[1;33m=\u001b[0m\u001b[0msubset\u001b[0m\u001b[1;33m[\u001b[0m\u001b[1;34m'City Miles Per Gallon'\u001b[0m\u001b[1;33m]\u001b[0m\u001b[1;33m.\u001b[0m\u001b[0mmax\u001b[0m\u001b[1;33m(\u001b[0m\u001b[1;33m)\u001b[0m\u001b[1;33m)\u001b[0m\u001b[1;33m\u001b[0m\u001b[1;33m\u001b[0m\u001b[0m\n\u001b[1;32m----> 6\u001b[1;33m \u001b[0mcolors\u001b[0m \u001b[1;33m=\u001b[0m \u001b[1;33m[\u001b[0m\u001b[0mplt\u001b[0m\u001b[1;33m.\u001b[0m\u001b[0mcm\u001b[0m\u001b[1;33m.\u001b[0m\u001b[0mGreens\u001b[0m\u001b[1;33m(\u001b[0m\u001b[0mnorm\u001b[0m\u001b[1;33m(\u001b[0m\u001b[0mvalue\u001b[0m\u001b[1;33m)\u001b[0m\u001b[1;33m)\u001b[0m \u001b[1;32mfor\u001b[0m \u001b[0mvalue\u001b[0m \u001b[1;32min\u001b[0m \u001b[0msubset\u001b[0m\u001b[1;33m[\u001b[0m\u001b[1;34m'City Miles Per Gallon'\u001b[0m\u001b[1;33m]\u001b[0m\u001b[1;33m]\u001b[0m\u001b[1;33m\u001b[0m\u001b[1;33m\u001b[0m\u001b[0m\n\u001b[0m\u001b[0;32m      7\u001b[0m \u001b[0msubset\u001b[0m\u001b[1;33m.\u001b[0m\u001b[0mplot\u001b[0m\u001b[1;33m.\u001b[0m\u001b[0mbar\u001b[0m\u001b[1;33m(\u001b[0m\u001b[0mx\u001b[0m\u001b[1;33m=\u001b[0m\u001b[1;34m'Vehicle Name'\u001b[0m\u001b[1;33m,\u001b[0m \u001b[0my\u001b[0m\u001b[1;33m=\u001b[0m\u001b[1;34m'City Miles Per Gallon'\u001b[0m\u001b[1;33m,\u001b[0m \u001b[0mcolor\u001b[0m\u001b[1;33m=\u001b[0m\u001b[0mcolors\u001b[0m\u001b[1;33m,\u001b[0m \u001b[0medgecolor\u001b[0m\u001b[1;33m=\u001b[0m\u001b[1;34m'black'\u001b[0m\u001b[1;33m)\u001b[0m\u001b[1;33m\u001b[0m\u001b[1;33m\u001b[0m\u001b[0m\n\u001b[0;32m      8\u001b[0m \u001b[1;33m\u001b[0m\u001b[0m\n",
      "\u001b[1;31mNameError\u001b[0m: name 'plt' is not defined"
     ]
    }
   ],
   "source": [
    "import matplotlib.colors as mcolors\n",
    "subset = SportCars[['Vehicle Name', 'City Miles Per Gallon']]\n",
    "\n",
    "\n",
    "norm = mcolors.Normalize(vmin=subset['City Miles Per Gallon'].min(), vmax=subset['City Miles Per Gallon'].max())\n",
    "colors = [plt.cm.Greens(norm(value)) for value in subset['City Miles Per Gallon']]\n",
    "subset.plot.bar(x='Vehicle Name', y='City Miles Per Gallon', color=colors, edgecolor='black')\n",
    "\n",
    "\n",
    "plt.xlabel('Vehicle Name')\n",
    "plt.ylabel('City Miles Per Gallon')\n",
    "plt.xticks(rotation=90)\n",
    "plt.show()\n",
    "\n",
    "\n",
    "# For the color map you can use\n",
    "\n",
    "# cmp= plt.cm.get_cmap('Greens', 40)\n",
    "# mpgColors = cmp(SportCars['ScaledCityMPG'])\n",
    "\n",
    "# set the plot figure size to 10 x 4\n",
    "\n",
    "# Set the edge color of the bars as Green\n",
    "\n",
    "# since you used the dataframe \".plot\"  you need to remove the default  legend\n"
   ]
  },
  {
   "cell_type": "markdown",
   "metadata": {},
   "source": [
    "--------"
   ]
  },
  {
   "cell_type": "markdown",
   "metadata": {},
   "source": [
    "c) <font color = red> [14 points]</font> make a Horizontal Bar plot using the column `'City Miles Per Gallon'`  to create visual comparison between the selected set of cars in `SportCars` "
   ]
  },
  {
   "cell_type": "code",
   "execution_count": 120,
   "metadata": {},
   "outputs": [
    {
     "data": {
      "image/png": "[encoded data removed]",
      "text/plain": [
       "<Figure size 640x480 with 1 Axes>"
      ]
     },
     "metadata": {},
     "output_type": "display_data"
    }
   ],
   "source": [
    "subset = SportCars[['Vehicle Name', 'City Miles Per Gallon']]\n",
    "\n",
    "subset.plot.barh(x='Vehicle Name', y='City Miles Per Gallon', color = 'green')\n",
    "\n",
    "plt.xlabel('Vehicle Name')\n",
    "plt.ylabel('City Miles Per Gallon')\n",
    "\n",
    "plt.show()\n",
    "\n",
    "\n"
   ]
  },
  {
   "cell_type": "markdown",
   "metadata": {},
   "source": [
    "--------"
   ]
  },
  {
   "cell_type": "markdown",
   "metadata": {},
   "source": [
    "### Extra credit Task: [5 points]\n",
    "For easier comparison it would be better if the previous plot(s) is/are made as below.  Write Python code to reproduce the plot below. Notice the colors of the corresponding bars in the two plots are the same, for example, \"Chevrolet Corvette convertible 2dr\" has the highest MPG so its bar is colored by the darkest green in both plots, i.e. the higher the MPG the greener the bar color.  "
   ]
  },
  {
   "cell_type": "markdown",
   "metadata": {},
   "source": [
    "## <font color=Green> Extra Credit Task Answer: </font>"
   ]
  },
  {
   "cell_type": "code",
   "execution_count": 121,
   "metadata": {},
   "outputs": [
    {
     "data": {
      "image/png": "[encoded data removed]",
      "text/plain": [
       "<Figure size 640x480 with 1 Axes>"
      ]
     },
     "metadata": {},
     "output_type": "display_data"
    }
   ],
   "source": [
    "subset = SportCars[['Vehicle Name', 'City Miles Per Gallon']]\n",
    "subset = subset.sort_values('City Miles Per Gallon', ascending=True)\n",
    "\n",
    "norm = mcolors.Normalize(vmin=subset['City Miles Per Gallon'].min(), vmax=subset['City Miles Per Gallon'].max())\n",
    "colors = [plt.cm.Greens(norm(value)) for value in subset['City Miles Per Gallon']]\n",
    "subset.plot.bar(x='Vehicle Name', y='City Miles Per Gallon', color=colors, edgecolor='black')\n",
    "plt.xlabel('Vehicle Name')\n",
    "plt.ylabel('City Miles Per Gallon')\n",
    "plt.xticks(rotation=90)\n",
    "plt.show()\n",
    "\n",
    "    \n",
    "    \n",
    "    \n",
    "    \n",
    "    \n",
    "    \n"
   ]
  },
  {
   "cell_type": "markdown",
   "metadata": {},
   "source": [
    "End of assignment"
   ]
  },
  {
   "cell_type": "code",
   "execution_count": null,
   "metadata": {},
   "outputs": [],
   "source": []
  },
  {
   "cell_type": "code",
   "execution_count": null,
   "metadata": {},
   "outputs": [],
   "source": []
  }
 ],
 "metadata": {
  "kernelspec": {
   "display_name": "Python 3 (ipykernel)",
   "language": "python",
   "name": "python3"
  },
  "language_info": {
   "codemirror_mode": {
    "name": "ipython",
    "version": 3
   },
   "file_extension": ".py",
   "mimetype": "text/x-python",
   "name": "python",
   "nbconvert_exporter": "python",
   "pygments_lexer": "ipython3",
   "version": "3.9.13"
  }
 },
 "nbformat": 4,
 "nbformat_minor": 2
}
