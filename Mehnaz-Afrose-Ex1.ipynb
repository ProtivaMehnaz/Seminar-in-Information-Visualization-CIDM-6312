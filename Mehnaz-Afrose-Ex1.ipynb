{
 "cells": [
  {
   "cell_type": "markdown",
   "metadata": {},
   "source": [
    "## <font color=red>  Exercise \\#1: Python review </font>\n",
    "\n",
    "## Total Points  : 50  \n",
    "### <font color=Blue> Due: Tuesday 02/07/2023 11:59 PM </font>\n",
    "#### Objective : Assess your ability to use Numpy Python package to  Create, index, and manipulate Arrays and Lists \n",
    "\n",
    "##### Skills needed:  In this homework assignment, you'll be using the concepts you've learned to\n",
    "1. Edit and run  Jupyter notebooks\n",
    "2. Write Python code using Numpy package to :\n",
    "    * import the numpy package\n",
    "    * Create arrays\n",
    "    * Slice arrays \n",
    "    * Create boolean masks using some condition to index array elements"
   ]
  },
  {
   "cell_type": "markdown",
   "metadata": {},
   "source": [
    "------\n",
    "### <font color=darkorange> Type your name in the cell below: </font>"
   ]
  },
  {
   "cell_type": "markdown",
   "metadata": {},
   "source": [
    "# Mehnaz Afrose"
   ]
  },
  {
   "cell_type": "markdown",
   "metadata": {},
   "source": [
    "-----"
   ]
  },
  {
   "cell_type": "markdown",
   "metadata": {},
   "source": [
    "## Requirements & Submission:\n",
    "1. Use this notebook as a template for your answers. Then rename it as ` your first name`-`Last name-Ex1.ipynb`. \n",
    "2. Submit on WTClass (“Resources >> Tests, exercises and Quizzes >> Exercise#1 \n",
    "3. Each task's answer must be given in the cells after the task description\n",
    "4. Answers and explanations must be properly formatted in the appropriate Cell type\n",
    "5. You can add as many cells as you needed\n",
    "6. You should submit final ***clean version*** of your notebook, i.e. remove any experimenting cells"
   ]
  },
  {
   "cell_type": "markdown",
   "metadata": {},
   "source": [
    "---------"
   ]
  },
  {
   "cell_type": "markdown",
   "metadata": {},
   "source": [
    "## Task  <font color=darkred>:  [50 points]</font>\n",
    "#### Write python code to:\n",
    "1. Create 2D-array (identified by variable name `X`) with dimensions of 8x6 using randomly generated numbers in the range (-10,10). <font color=red>[7 points]</font>\n",
    "2. Create the four array slices shown in the figure below and marked by the four different __colors__  (Red,Green,Orange,Blue), i.e. each color is a separate slice. <font color=red> [7 points for each correct slice] </font>\n",
    "<img src=\"Ex1-Slices.png\" width=\"150\">\n",
    "    \n",
    "3. Create a boolean mask to identify the locations of all negative numbers in the array `X` above <font color=red>[5 points for crorrect mask]</font>, and then\n",
    "    * use the mask (or the locations) to display those negative numbers <font color=red>[5 points ]</font>. \n",
    "    * use the mask (or the locations) to change all those negative numbers to 0's <font color=red>[5 points]</font>. \n"
   ]
  },
  {
   "cell_type": "markdown",
   "metadata": {},
   "source": [
    "--------"
   ]
  },
  {
   "cell_type": "markdown",
   "metadata": {},
   "source": [
    "## <font color=Green> Answers: </font>"
   ]
  },
  {
   "cell_type": "markdown",
   "metadata": {},
   "source": [
    "- <font color=red> Note: </font> a sample output is given below, your output numbers could be different due to the random generation of the array. "
   ]
  },
  {
   "cell_type": "code",
   "execution_count": 17,
   "metadata": {},
   "outputs": [],
   "source": [
    "import random \n",
    "import numpy as np\n",
    "from array import *"
   ]
  },
  {
   "cell_type": "markdown",
   "metadata": {},
   "source": [
    "#### <font color=Green> 1 - array creation [7 points]"
   ]
  },
  {
   "cell_type": "code",
   "execution_count": 109,
   "metadata": {},
   "outputs": [
    {
     "name": "stdout",
     "output_type": "stream",
     "text": [
      "[[  7   0  -7   2   2  -3]\n",
      " [ -1   6 -10   4   2  -2]\n",
      " [ -2  -5   0 -10  -8  -1]\n",
      " [  8 -10  -2  -4  -1  -6]\n",
      " [ -9   2   4  -6   7   8]\n",
      " [ -8   5   8  -4 -10  -8]\n",
      " [  3   3   0   4  -2  -3]\n",
      " [ -4   9  -2   0   8   5]]\n"
     ]
    }
   ],
   "source": [
    "X=np.random.randint(-10,10,(8,6))\n",
    "print(X)"
   ]
  },
  {
   "cell_type": "code",
   "execution_count": 39,
   "metadata": {},
   "outputs": [],
   "source": [
    "#Sample output of randomly generated 8x6 array"
   ]
  },
  {
   "cell_type": "markdown",
   "metadata": {},
   "source": [
    "Based on the generated array above, the slices will be as follows:\n",
    "<img src=\"Ex1-Slices-numArray.png\" width=\"250\">"
   ]
  },
  {
   "cell_type": "markdown",
   "metadata": {},
   "source": [
    "#### <font color=Green> 2- Slicing the array X\n"
   ]
  },
  {
   "cell_type": "markdown",
   "metadata": {},
   "source": [
    "- __2.1 - The Orange slice__  [7 points]"
   ]
  },
  {
   "cell_type": "code",
   "execution_count": 110,
   "metadata": {},
   "outputs": [
    {
     "data": {
      "text/plain": [
       "array([[ 0,  4],\n",
       "       [-2,  0]])"
      ]
     },
     "execution_count": 110,
     "metadata": {},
     "output_type": "execute_result"
    }
   ],
   "source": [
    "# Sample output of the Orange slice from the array X above\n",
    "X[6:, 2:4 ]\n"
   ]
  },
  {
   "cell_type": "markdown",
   "metadata": {},
   "source": [
    "- __2.2 - The Green slice__ [7 points]"
   ]
  },
  {
   "cell_type": "code",
   "execution_count": 111,
   "metadata": {},
   "outputs": [
    {
     "data": {
      "text/plain": [
       "array([ -1,  -5,  -2,  -6, -10,  -3])"
      ]
     },
     "execution_count": 111,
     "metadata": {},
     "output_type": "execute_result"
    }
   ],
   "source": [
    "# Sample output of the Green slice from the array X above\n",
    "np.diag(X[1:7])\n",
    " "
   ]
  },
  {
   "cell_type": "markdown",
   "metadata": {},
   "source": [
    "- __2.3 - The Blue slice__ [7 points]"
   ]
  },
  {
   "cell_type": "code",
   "execution_count": 112,
   "metadata": {},
   "outputs": [
    {
     "data": {
      "text/plain": [
       "array([[ 7, -7,  2]])"
      ]
     },
     "execution_count": 112,
     "metadata": {},
     "output_type": "execute_result"
    }
   ],
   "source": [
    "# Sample output of the Blue slice from the array X above\n",
    "X[:1, ::2 ]"
   ]
  },
  {
   "cell_type": "markdown",
   "metadata": {},
   "source": [
    "- __2.4 - The Red slice__ [7 points]"
   ]
  },
  {
   "cell_type": "code",
   "execution_count": 113,
   "metadata": {},
   "outputs": [
    {
     "data": {
      "text/plain": [
       "array([-2, -8, -4,  4,  5,  3])"
      ]
     },
     "execution_count": 113,
     "metadata": {},
     "output_type": "execute_result"
    }
   ],
   "source": [
    "# Sample output of the Red slice from the array X above\n",
    "np.fliplr(X[1:7]).diagonal()"
   ]
  },
  {
   "cell_type": "markdown",
   "metadata": {},
   "source": [
    "#### <font color=Green> 3- Boolean mask to identify the locations of all negative (-ve) numbers in the array"
   ]
  },
  {
   "cell_type": "markdown",
   "metadata": {},
   "source": [
    "- __3.1 The mask__ [5 points]"
   ]
  },
  {
   "cell_type": "code",
   "execution_count": 125,
   "metadata": {},
   "outputs": [
    {
     "name": "stdout",
     "output_type": "stream",
     "text": [
      "[[False False  True False False  True]\n",
      " [ True False  True False False  True]\n",
      " [ True  True False  True  True  True]\n",
      " [False  True  True  True  True  True]\n",
      " [ True False False  True False False]\n",
      " [ True False False  True  True  True]\n",
      " [False False False False  True  True]\n",
      " [ True False  True False False False]]\n"
     ]
    }
   ],
   "source": [
    "\n",
    "m = np.where(X<0,True,False )\n",
    "#print(X)\n",
    "print(m)"
   ]
  },
  {
   "cell_type": "markdown",
   "metadata": {},
   "source": [
    "* Note: \n",
    "* The mask's shape is the same as the array used to create it (X)'s shape. \n",
    "* The first value in the mask (at [0,0]) is `True` which means the first number in array X is negative. This is the case for all X values that correspond to `True` values in the mask. \n",
    "* When we apply the mask, only the X values that correspond to `True` will be selected.\n",
    "\n",
    "* Also the Mask can be represented as indexes of the -ve numbers. The index has two arrays\n",
    "     - The first array for rows indexes \n",
    "     - the 2nd array for columns indexes\n"
   ]
  },
  {
   "cell_type": "code",
   "execution_count": 124,
   "metadata": {},
   "outputs": [
    {
     "name": "stdout",
     "output_type": "stream",
     "text": [
      "(array([0, 0, 1, 1, 1, 2, 2, 2, 2, 2, 3, 3, 3, 3, 3, 4, 4, 5, 5, 5, 5, 6,\n",
      "       6, 7, 7], dtype=int64), array([2, 5, 0, 2, 5, 0, 1, 3, 4, 5, 1, 2, 3, 4, 5, 0, 3, 0, 3, 4, 5, 4,\n",
      "       5, 0, 2], dtype=int64))\n"
     ]
    }
   ],
   "source": [
    "i = np.where(X<0)\n",
    "# Sample output for the mask indexes\n",
    "print(i)"
   ]
  },
  {
   "cell_type": "markdown",
   "metadata": {},
   "source": [
    " -  for instance, in the indexes above, the index `[0,0]` is the row and column index of the 1st negative number, and `[7,4]` is the index of the last -ve number in the array. So we can list the -ve numbers using the mask or its corresponding index format "
   ]
  },
  {
   "cell_type": "markdown",
   "metadata": {},
   "source": [
    "- __3.2 Use the mask to display the -ve numbers__ [5 points]"
   ]
  },
  {
   "cell_type": "code",
   "execution_count": 126,
   "metadata": {},
   "outputs": [
    {
     "name": "stdout",
     "output_type": "stream",
     "text": [
      "[ -7  -3  -1 -10  -2  -2  -5 -10  -8  -1 -10  -2  -4  -1  -6  -9  -6  -8\n",
      "  -4 -10  -8  -2  -3  -4  -2]\n"
     ]
    }
   ],
   "source": [
    "# Sample output for the -ve numbers in the array displayed using the mask (or the mask indexes) above\n",
    "i = np.where(X<0)\n",
    "#print(X)\n",
    "print(X[i])"
   ]
  },
  {
   "cell_type": "markdown",
   "metadata": {},
   "source": [
    "- __3.3 Use the mask to change the -ve numbers in X to 0's__ [5 points]"
   ]
  },
  {
   "cell_type": "code",
   "execution_count": 127,
   "metadata": {},
   "outputs": [
    {
     "data": {
      "text/plain": [
       "array([[7, 0, 0, 2, 2, 0],\n",
       "       [0, 6, 0, 4, 2, 0],\n",
       "       [0, 0, 0, 0, 0, 0],\n",
       "       [8, 0, 0, 0, 0, 0],\n",
       "       [0, 2, 4, 0, 7, 8],\n",
       "       [0, 5, 8, 0, 0, 0],\n",
       "       [3, 3, 0, 4, 0, 0],\n",
       "       [0, 9, 0, 0, 8, 5]])"
      ]
     },
     "execution_count": 127,
     "metadata": {},
     "output_type": "execute_result"
    }
   ],
   "source": [
    "# Sample output for the array after -ve values were changed to 0's\n",
    "np.where(X<0,0,X )\n",
    "#print(X)"
   ]
  },
  {
   "cell_type": "code",
   "execution_count": null,
   "metadata": {},
   "outputs": [],
   "source": []
  },
  {
   "cell_type": "code",
   "execution_count": null,
   "metadata": {},
   "outputs": [],
   "source": []
  },
  {
   "cell_type": "code",
   "execution_count": null,
   "metadata": {},
   "outputs": [],
   "source": []
  },
  {
   "cell_type": "code",
   "execution_count": null,
   "metadata": {},
   "outputs": [],
   "source": []
  }
 ],
 "metadata": {
  "kernelspec": {
   "display_name": "Python 3 (ipykernel)",
   "language": "python",
   "name": "python3"
  },
  "language_info": {
   "codemirror_mode": {
    "name": "ipython",
    "version": 3
   },
   "file_extension": ".py",
   "mimetype": "text/x-python",
   "name": "python",
   "nbconvert_exporter": "python",
   "pygments_lexer": "ipython3",
   "version": "3.9.13"
  }
 },
 "nbformat": 4,
 "nbformat_minor": 2
}
